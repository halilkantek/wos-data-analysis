{
 "cells": [
  {
   "cell_type": "code",
   "execution_count": 146,
   "metadata": {},
   "outputs": [],
   "source": [
    "import pandas as pd\n",
    "import numpy as np"
   ]
  },
  {
   "cell_type": "code",
   "execution_count": 147,
   "metadata": {},
   "outputs": [],
   "source": [
    "df=pd.read_excel('data.xlsx')"
   ]
  },
  {
   "cell_type": "markdown",
   "metadata": {},
   "source": [
    "istenilmeyen sütünları sil"
   ]
  },
  {
   "cell_type": "code",
   "execution_count": 148,
   "metadata": {},
   "outputs": [],
   "source": [
    "\n",
    "de=['book-author','pages','number','cited-references','title','month','earlyaccessdate','Unnamed: 42','keywords-plus','affiliations','funding-acknowledgement','volume','da','Unnamed: 0','oa','unique-id','esi-hot-paper','esi-highly-cited-paper','issn','booktitle','editor','series','note','ID','doc-delivery-number','orcid-numbers','doi','affiliation','abstract','article-number','author-email','researcherid-numbers','orcid-numbers','eissn','isbn','organization']\n",
    "dt=df.drop(columns=de,errors='ignore')\n"
   ]
  },
  {
   "cell_type": "markdown",
   "metadata": {},
   "source": [
    "author sütün değerleri bul ve author_count sütünü oluştur ve verileri sütüna ekle"
   ]
  },
  {
   "cell_type": "code",
   "execution_count": 149,
   "metadata": {},
   "outputs": [],
   "source": [
    "df['author'] = df['author'].str.replace(' and ', ' & ')\n",
    "\n",
    "dt['author_count'] = dt['author'].apply(lambda x: len(str(x).split(',')))\n",
    "dt.drop('author',axis=1,inplace= True)"
   ]
  },
  {
   "cell_type": "markdown",
   "metadata": {},
   "source": [
    "address sütündan ülkeleri çıkart ve sütüna ülke sütüna ekle"
   ]
  },
  {
   "cell_type": "code",
   "execution_count": 150,
   "metadata": {},
   "outputs": [],
   "source": [
    "dt['country'] = df['address'].apply(lambda x: str(x).rsplit(',', 1)[-1].strip() if ',' in str(x) else None)\n",
    "dt.drop('address',axis=1,inplace= True)"
   ]
  },
  {
   "cell_type": "markdown",
   "metadata": {},
   "source": [
    "keywordsayisini buldur ve yeni sütün olustur veriler yeni sütüna ekle "
   ]
  },
  {
   "cell_type": "code",
   "execution_count": 151,
   "metadata": {},
   "outputs": [],
   "source": [
    "dt['keyword_count']=df['keywords'].apply(lambda x: len(str(x).split(';')) if pd.notna(x) else 0)\n",
    "dt.drop('keywords',axis=1,inplace= True)"
   ]
  },
  {
   "cell_type": "markdown",
   "metadata": {},
   "source": [
    "\"funding-text\" sütunundaki 0 olmayan değerleri 1 olarak işaretleyin"
   ]
  },
  {
   "cell_type": "code",
   "execution_count": 152,
   "metadata": {},
   "outputs": [],
   "source": [
    "dt['funding-status'] = df['funding-text'].notna().astype(int)\n",
    "dt.drop('funding-text',axis=1,inplace= True)"
   ]
  },
  {
   "cell_type": "code",
   "execution_count": 153,
   "metadata": {},
   "outputs": [],
   "source": [
    "dt.to_excel('h.xlsx')"
   ]
  }
 ],
 "metadata": {
  "kernelspec": {
   "display_name": "Python 3",
   "language": "python",
   "name": "python3"
  },
  "language_info": {
   "codemirror_mode": {
    "name": "ipython",
    "version": 3
   },
   "file_extension": ".py",
   "mimetype": "text/x-python",
   "name": "python",
   "nbconvert_exporter": "python",
   "pygments_lexer": "ipython3",
   "version": "3.11.7"
  }
 },
 "nbformat": 4,
 "nbformat_minor": 2
}
