{
 "cells": [
  {
   "cell_type": "code",
   "execution_count": null,
   "metadata": {},
   "outputs": [],
   "source": [
    "#ilgili kütüphaneleri kur\n",
    "pip install bibtexparser\n",
    "pip install openyxl\n"
   ]
  },
  {
   "cell_type": "code",
   "execution_count": 2,
   "metadata": {},
   "outputs": [],
   "source": [
    "#kütüphaneleri aktive et\n",
    "import bibtexparser\n",
    "import pandas as pd"
   ]
  },
  {
   "cell_type": "code",
   "execution_count": 4,
   "metadata": {},
   "outputs": [],
   "source": [
    "\n",
    "# BibTeX dosyasını oku\n",
    "with open('data.bib', 'r', encoding='utf-8') as bibtex_file:\n",
    "    bibtex_str = bibtex_file.read()\n",
    "\n",
    "# BibTeX verisini parse et\n",
    "bib_database = bibtexparser.loads(bibtex_str)\n",
    "\n",
    "# BibTeX verilerini DataFrame'e çevir\n",
    "data = []\n",
    "for entry in bib_database.entries:\n",
    "    data.append(entry)\n",
    "\n",
    "df = pd.DataFrame(data)\n",
    "\n"
   ]
  },
  {
   "cell_type": "code",
   "execution_count": 5,
   "metadata": {},
   "outputs": [],
   "source": [
    "#oluşan dataframeyi excel dsoyasınıa dönüştür.\n",
    "df.to_excel('data.xlsx')"
   ]
  }
 ],
 "metadata": {
  "kernelspec": {
   "display_name": "Python 3",
   "language": "python",
   "name": "python3"
  },
  "language_info": {
   "codemirror_mode": {
    "name": "ipython",
    "version": 3
   },
   "file_extension": ".py",
   "mimetype": "text/x-python",
   "name": "python",
   "nbconvert_exporter": "python",
   "pygments_lexer": "ipython3",
   "version": "3.11.7"
  }
 },
 "nbformat": 4,
 "nbformat_minor": 2
}
